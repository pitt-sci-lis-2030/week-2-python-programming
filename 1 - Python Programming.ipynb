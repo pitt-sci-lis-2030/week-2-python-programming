{
 "cells": [
  {
   "cell_type": "markdown",
   "id": "12a3928b",
   "metadata": {},
   "source": [
    "# Week 2 Python Programming"
   ]
  },
  {
   "cell_type": "markdown",
   "id": "bed15cbd",
   "metadata": {},
   "source": [
    "Topics\n",
    "1. Python Syntax\n",
    "2. Values Data Types, & Variables\n",
    "3. Operators, Comments, and Errors\n",
    "4. Computational Thinking: Statements & Expressions\n",
    "5. Putting it All Together"
   ]
  },
  {
   "cell_type": "markdown",
   "id": "7ab68f7c-78c6-4f82-b720-e7f2aa4ffa00",
   "metadata": {},
   "source": [
    "## Reading Python Code\n",
    "\n",
    "* The first step in learning to program is learning to read Python code and understand how the computer will process it.\n",
    "* Expressions get *evaluated* and result in a value.\n",
    "* Statements are the lines of code that are made up of expressions.\n",
    "    * Python *statements* are kind of like sentences\n",
    "    * Python *expressions* are the clauses that make up a sentence"
   ]
  },
  {
   "cell_type": "code",
   "execution_count": null,
   "id": "dd060eda-6fe4-4bac-86c6-b90c609156ec",
   "metadata": {},
   "outputs": [],
   "source": [
    "from datetime import datetime \n",
    "\n",
    "today = datetime.today() \n",
    "\n",
    "day_name = today.strftime(\"%A\") \n",
    "\n",
    "if day_name == \"Friday\": \n",
    "    print(\"Quittin time!\")\n",
    "else:\n",
    "    print(\"Back to the grind\")"
   ]
  },
  {
   "cell_type": "markdown",
   "id": "bc1e0f3f-5290-4495-b55d-da4db8b7da31",
   "metadata": {},
   "source": [
    "Let's work through this code line by line.\n",
    "\n",
    "1. This is an *import statement* that loads some functionality from the `datetime` library/module\n",
    "2. This is a blank line\n",
    "3. This *assignment statement* that *assigns* (`=`) a *value* to a *variable* named `today`\n",
    "4. Another blank line 🙂\n",
    "5. Evaluate the *expression* `today.strftime(\"%A\")` and save the resulting *value* in a *variable* named `day_name`\n",
    "6. BLANK LINE\n",
    "7. Use an *if statement* to compare the value of the variable `day_name` and the string \"Friday\". If they are the same go to line 8, if they are not equal go to line 10.\n",
    "8. In the successful block, print the string \"Quittin time!\" because today is Friday!\n",
    "9. The `else` statement defines what do do when the comparison is not equal\n",
    "10. In the unsuccessful block, print the string \"Back to the grind\"\n",
    "\n",
    "* Don't worry if you don't fully understand what this code is doing, the goal is to become familiar with the practice of reading Python code and thinking about how it will be executed by the computer."
   ]
  },
  {
   "cell_type": "markdown",
   "id": "804b08c3",
   "metadata": {},
   "source": [
    "## Values and Data Types\n",
    "\n",
    "* Python has several data types for storing information in memory\n",
    "* When you express data in Python it is important to consider the *type* of the data\n",
    "* Under the hood, the computer is storing the data differently depending on the type\n",
    "* This enables efficiency in two ways\n",
    "    * Using the appropriate amount of memory\n",
    "    * Speed of computation\n",
    "* Most importantly, data types determine the operations that can be executed on the data  "
   ]
  },
  {
   "cell_type": "code",
   "execution_count": null,
   "id": "89bab8da",
   "metadata": {},
   "outputs": [],
   "source": [
    "3"
   ]
  },
  {
   "cell_type": "code",
   "execution_count": null,
   "id": "c670d0ca",
   "metadata": {},
   "outputs": [],
   "source": [
    "3.1415926535897931"
   ]
  },
  {
   "cell_type": "code",
   "execution_count": null,
   "id": "ea870cdb",
   "metadata": {},
   "outputs": [],
   "source": [
    "\"Hello, what a wonderful day!\""
   ]
  },
  {
   "cell_type": "markdown",
   "id": "56e22460",
   "metadata": {},
   "source": [
    "* The code above expressed three values\n",
    "* Each value had a different `type` \n",
    "* Python will dynamically assign a type to these values\n",
    "* We can see the data type by using the `type()` function\n",
    "    * More on functions later"
   ]
  },
  {
   "cell_type": "code",
   "execution_count": null,
   "id": "3f4498bb",
   "metadata": {},
   "outputs": [],
   "source": [
    "# What data type is this value?\n",
    "type(3)"
   ]
  },
  {
   "cell_type": "code",
   "execution_count": null,
   "id": "62afc162",
   "metadata": {},
   "outputs": [],
   "source": [
    "# What data type is this value?\n",
    "type(3.141592653589793)"
   ]
  },
  {
   "cell_type": "code",
   "execution_count": null,
   "id": "998bf3fd",
   "metadata": {},
   "outputs": [],
   "source": [
    "# What data type is this value?\n",
    "type(\"Hello, what a wonderful day!\")"
   ]
  },
  {
   "cell_type": "markdown",
   "id": "b59ed2cf",
   "metadata": {},
   "source": [
    "* A quick note about Jupyter and the display of outputs\n",
    "* Jupyter will automatically print the last *value* to be evaluated in a cell "
   ]
  },
  {
   "cell_type": "code",
   "execution_count": null,
   "id": "cc40420c",
   "metadata": {},
   "outputs": [],
   "source": [
    "3\n",
    "3.14\n",
    "\"Hello World\""
   ]
  },
  {
   "cell_type": "markdown",
   "id": "76f535f8",
   "metadata": {},
   "source": [
    "* If we want to see each of those values, we can use the `print()` function to display the values\n",
    "    * More on functions later"
   ]
  },
  {
   "cell_type": "code",
   "execution_count": null,
   "id": "50bdde1b",
   "metadata": {},
   "outputs": [],
   "source": [
    "print(3)\n",
    "print(3.13)\n",
    "print(\"Hello World\")"
   ]
  },
  {
   "cell_type": "markdown",
   "id": "20964743",
   "metadata": {},
   "source": [
    "### Type: Integers\n",
    "\n",
    "* Python has a type, called `int`, that is used for representing integer numbers.\n",
    "* These can positive, negative, small or large"
   ]
  },
  {
   "cell_type": "code",
   "execution_count": null,
   "id": "fce76105",
   "metadata": {},
   "outputs": [],
   "source": [
    "# regular numbers are ints\n",
    "print(4) \n",
    "type(4)"
   ]
  },
  {
   "cell_type": "code",
   "execution_count": null,
   "id": "393617d3",
   "metadata": {},
   "outputs": [],
   "source": [
    "# negative numbers are ints\n",
    "print(-1) \n",
    "type(-1)"
   ]
  },
  {
   "cell_type": "code",
   "execution_count": null,
   "id": "cf8c3ac0",
   "metadata": {},
   "outputs": [],
   "source": [
    "# Even big numbers are ints\n",
    "print(20928375403298570293847503984570938457)\n",
    "type(20928375403298570293847503984570938457)"
   ]
  },
  {
   "cell_type": "markdown",
   "id": "7ac34261",
   "metadata": {},
   "source": [
    "### Type: Floating Point numbers\n",
    "\n",
    "* But what about non-integer numbers?\n",
    "* Python has a type, called `float`, that is used for representing fractional numbers."
   ]
  },
  {
   "cell_type": "code",
   "execution_count": null,
   "id": "04911c45",
   "metadata": {},
   "outputs": [],
   "source": [
    "print(3/4) # display the value of 3/4\n",
    "type(3/4) # what type is 3/4"
   ]
  },
  {
   "cell_type": "code",
   "execution_count": null,
   "id": "75f3e6ec",
   "metadata": {},
   "outputs": [],
   "source": [
    "print(0.75)\n",
    "type(0.75)"
   ]
  },
  {
   "cell_type": "code",
   "execution_count": null,
   "id": "bd5adbb9",
   "metadata": {},
   "outputs": [],
   "source": [
    "print(3.)\n",
    "type(3.)"
   ]
  },
  {
   "cell_type": "markdown",
   "id": "a5cb4793",
   "metadata": {},
   "source": [
    "* Python interprets the `.` to indicate a floating point number"
   ]
  },
  {
   "cell_type": "markdown",
   "id": "a5dc4655",
   "metadata": {},
   "source": [
    "### Type: Strings\n",
    "\n",
    "* Even though everything is a number in the computer world...\n",
    "* High-level programming languages like Python try to make the computer world more *humane*.\n",
    "* Often we need to deal with textual data so we use the *string* data type!\n",
    "* The syntax for strings is double (\") or single (') quotes.\n",
    "    * Always use double quotes"
   ]
  },
  {
   "cell_type": "code",
   "execution_count": null,
   "id": "f2a140a7",
   "metadata": {},
   "outputs": [],
   "source": [
    "print(\"Hello World\")\n",
    "type(\"Hello World\")"
   ]
  },
  {
   "cell_type": "code",
   "execution_count": null,
   "id": "f0f4f1db",
   "metadata": {},
   "outputs": [],
   "source": [
    " \"Ford's Pinto\"  "
   ]
  },
  {
   "cell_type": "markdown",
   "id": "f4ece063",
   "metadata": {},
   "source": [
    "* Using single quotes can get you in trouble"
   ]
  },
  {
   "cell_type": "code",
   "execution_count": null,
   "id": "3da4d28a",
   "metadata": {},
   "outputs": [],
   "source": [
    "'Ford's Pinto'"
   ]
  },
  {
   "cell_type": "code",
   "execution_count": null,
   "id": "dfe1057c",
   "metadata": {},
   "outputs": [],
   "source": [
    "\"\"\"\n",
    "You can have multiple lines in a string \n",
    "by using triple double quotes\n",
    "\"\"\""
   ]
  },
  {
   "cell_type": "markdown",
   "id": "b37555b3",
   "metadata": {},
   "source": [
    "* There is a lot more to strings so we will go into more depth later"
   ]
  },
  {
   "cell_type": "markdown",
   "id": "93c51913",
   "metadata": {},
   "source": [
    "### Type: Boolean\n",
    "\n",
    "* Python has a data type for True and False\n",
    "* A boolean is either `True` or `False`\n",
    "* Pay attention to the capitalization"
   ]
  },
  {
   "cell_type": "code",
   "execution_count": null,
   "id": "ca2603da",
   "metadata": {},
   "outputs": [],
   "source": [
    "True"
   ]
  },
  {
   "cell_type": "code",
   "execution_count": null,
   "id": "ba3b18fe",
   "metadata": {},
   "outputs": [],
   "source": [
    "False"
   ]
  },
  {
   "cell_type": "code",
   "execution_count": null,
   "id": "a916f97c",
   "metadata": {},
   "outputs": [],
   "source": [
    "type(True)"
   ]
  },
  {
   "cell_type": "markdown",
   "id": "2705b43a",
   "metadata": {},
   "source": [
    "* Booleans will be very important when we start talking about *conditional statements*"
   ]
  },
  {
   "cell_type": "markdown",
   "id": "0f22f236",
   "metadata": {},
   "source": [
    "## Variables\n",
    "\n",
    "* Values dissapear once they are evaluated unless we tell Python we want to remember them\n",
    "* A variable is a name that refers to a value, so we can save it and not type the value all the time. \n",
    "* We *assign* different types of data to variables."
   ]
  },
  {
   "cell_type": "code",
   "execution_count": null,
   "id": "cdbc3566",
   "metadata": {},
   "outputs": [],
   "source": [
    "a = 3"
   ]
  },
  {
   "cell_type": "code",
   "execution_count": null,
   "id": "fd9d90d3",
   "metadata": {},
   "outputs": [],
   "source": [
    "a"
   ]
  },
  {
   "cell_type": "code",
   "execution_count": null,
   "id": "f0347c1c",
   "metadata": {},
   "outputs": [],
   "source": [
    "a_more_complicated_variable_name = 3\n",
    "a_more_complicated_variable_name"
   ]
  },
  {
   "cell_type": "markdown",
   "id": "5d058a02",
   "metadata": {},
   "source": [
    "### Variable Names and Python Keywords\n",
    "\n",
    "* There are rules and conventions for naming variables (also called *identifiers*) in Python.\n",
    "* Rules:\n",
    "    * Variable names cannot begin with numbers.\n",
    "    * Variable names cannot contain spaces.\n",
    "    * Variable names are case sensitive.\n",
    "    * Variable names cannot be one of the Python *keywords*\n",
    "\n",
    "```python\n",
    "and       del       from      None      True\n",
    "as        elif      global    nonlocal  try\n",
    "assert    else      if        not       while\n",
    "break     except    import    or        with\n",
    "class     False     in        pass      yield\n",
    "continue  finally   is        raise\n",
    "def       for       lambda    return\n",
    "```\n",
    "\n",
    "* Conventions:\n",
    "    * Don't start variables with capital letters.\n",
    "    * Use underscores instead of spaces.\n",
    "    * Use descriptive variable names.\n",
    "    * Read [PEP 8 -- Style Guide for Python Code](https://www.python.org/dev/peps/pep-0008/)\n",
    "\n"
   ]
  },
  {
   "cell_type": "code",
   "execution_count": null,
   "id": "c8b28e5c",
   "metadata": {},
   "outputs": [],
   "source": [
    "descriptive_variables = \"are good programming hygine\""
   ]
  },
  {
   "cell_type": "code",
   "execution_count": null,
   "id": "978cc06b",
   "metadata": {},
   "outputs": [],
   "source": [
    "des"
   ]
  },
  {
   "cell_type": "code",
   "execution_count": null,
   "id": "cec5117d",
   "metadata": {},
   "outputs": [],
   "source": [
    "# don't use keywords for variable names\n",
    "and = \"hello\""
   ]
  },
  {
   "cell_type": "markdown",
   "id": "f995788c",
   "metadata": {},
   "source": [
    "## Mathematical Operators\n",
    "\n",
    "* MATH TIME 😬 ![Lisa loves math](https://media.giphy.com/media/l2Je3qSgOVvFPdaNi/giphy.gif)\n",
    "* The Python programming language could be treated as a very fancy or complicated calculator.\n",
    "* All of the mathematical operators you know and love are available in Python\n",
    "    * Addition: `+`\n",
    "    * Subtraction: `-`\n",
    "    * Multiplication: `*`\n",
    "    * Division: `/`\n",
    "    * Modulus: `%`"
   ]
  },
  {
   "cell_type": "code",
   "execution_count": null,
   "id": "a24dde64",
   "metadata": {},
   "outputs": [],
   "source": [
    "# addition\n",
    "5 + 3"
   ]
  },
  {
   "cell_type": "code",
   "execution_count": null,
   "id": "74494d43",
   "metadata": {},
   "outputs": [],
   "source": [
    "# subtraction\n",
    "5 - 3"
   ]
  },
  {
   "cell_type": "markdown",
   "id": "7d5a9f9d",
   "metadata": {},
   "source": [
    "* It even works with variables!"
   ]
  },
  {
   "cell_type": "code",
   "execution_count": null,
   "id": "671b95bd",
   "metadata": {},
   "outputs": [],
   "source": [
    "# Simple Mathematical Operations\n",
    "x = 5\n",
    "y = 10\n",
    "z = x + y # addition\n",
    "print(z)"
   ]
  },
  {
   "cell_type": "code",
   "execution_count": null,
   "id": "6b8de5a3",
   "metadata": {},
   "outputs": [],
   "source": [
    "z = x - y # subtraction\n",
    "print(z)"
   ]
  },
  {
   "cell_type": "code",
   "execution_count": null,
   "id": "528ce1a4",
   "metadata": {},
   "outputs": [],
   "source": [
    "z = x * y # multiplication\n",
    "print(z)"
   ]
  },
  {
   "cell_type": "code",
   "execution_count": null,
   "id": "b30b370d",
   "metadata": {},
   "outputs": [],
   "source": [
    "z = x / y # division\n",
    "print(z)"
   ]
  },
  {
   "cell_type": "markdown",
   "id": "feecc574",
   "metadata": {},
   "source": [
    "### String Operators\n",
    "\n",
    "* You can use some mathematical operators (+) on string types\n",
    "* This operator allows you to *concatinate* strings together"
   ]
  },
  {
   "cell_type": "code",
   "execution_count": null,
   "id": "9b5d1c72",
   "metadata": {},
   "outputs": [],
   "source": [
    "# Combining strings\n",
    "first_name = \"John\"\n",
    "last_name = \"Doe\"\n",
    "full_name = \"John\" + \" \" + \"Doe\"\n",
    "full_name"
   ]
  },
  {
   "cell_type": "code",
   "execution_count": null,
   "id": "c2fa8f6e",
   "metadata": {},
   "outputs": [],
   "source": [
    "# works with variables too\n",
    "full_name = first_name + \" \" + last_name\n",
    "full_name"
   ]
  },
  {
   "cell_type": "markdown",
   "id": "c20fb4fc",
   "metadata": {},
   "source": [
    "* The other operators don't really work"
   ]
  },
  {
   "cell_type": "code",
   "execution_count": null,
   "id": "90e2910d",
   "metadata": {},
   "outputs": [],
   "source": [
    "\"John\" - \"Doe\""
   ]
  },
  {
   "cell_type": "markdown",
   "id": "05694203",
   "metadata": {},
   "source": [
    "## Changing Data Types\n",
    "\n",
    "* If you want to do mathematical operations on your data, make sure your data values are the right type\n",
    "* You can't add a string to an integer.\n",
    "* You can't divide a float by a string."
   ]
  },
  {
   "cell_type": "code",
   "execution_count": null,
   "id": "d4c56531",
   "metadata": {},
   "outputs": [],
   "source": [
    "# What will happen when we run this?\n",
    "\"5\" + 5"
   ]
  },
  {
   "cell_type": "markdown",
   "id": "0411cd3e",
   "metadata": {},
   "source": [
    "* Use the `int()` function to transform a string into a number"
   ]
  },
  {
   "cell_type": "code",
   "execution_count": null,
   "id": "537cda82",
   "metadata": {},
   "outputs": [],
   "source": [
    "# store a number as a string\n",
    "number = \"5\"\n",
    "print(number)\n",
    "type(number)"
   ]
  },
  {
   "cell_type": "code",
   "execution_count": null,
   "id": "15ba5a9d",
   "metadata": {},
   "outputs": [],
   "source": [
    "# transform number from a string to an int\n",
    "number = int(\"5\")\n",
    "print(number)\n",
    "type(number)"
   ]
  },
  {
   "cell_type": "markdown",
   "id": "9dcbd1fd",
   "metadata": {},
   "source": [
    "* Use the `str()` function to *coerce* your data into a string"
   ]
  },
  {
   "cell_type": "code",
   "execution_count": null,
   "id": "f1873703",
   "metadata": {},
   "outputs": [],
   "source": [
    "# store a number as a number\n",
    "number = 5\n",
    "print(number)\n",
    "type(number)"
   ]
  },
  {
   "cell_type": "code",
   "execution_count": null,
   "id": "0174f093",
   "metadata": {},
   "outputs": [],
   "source": [
    "# transform a number into a string \n",
    "number = str(number)\n",
    "print(number)\n",
    "type(number)"
   ]
  },
  {
   "cell_type": "markdown",
   "id": "9c96fd9a",
   "metadata": {},
   "source": [
    "* Use the `float()` function to transform decimal numbers"
   ]
  },
  {
   "cell_type": "code",
   "execution_count": null,
   "id": "f7a0601d",
   "metadata": {},
   "outputs": [],
   "source": [
    "# store a decimal number as a string\n",
    "number = \"5.5\"\n",
    "print(number)\n",
    "type(number)"
   ]
  },
  {
   "cell_type": "code",
   "execution_count": null,
   "id": "743b24eb",
   "metadata": {},
   "outputs": [],
   "source": [
    "# transform a number into a float\n",
    "number = float(number)\n",
    "print(number)\n",
    "type(number)"
   ]
  },
  {
   "cell_type": "markdown",
   "id": "ee70a5e0",
   "metadata": {},
   "source": [
    "* These functions will do their best guess to infer the correc value\n",
    "* But they aren't magical AI"
   ]
  },
  {
   "cell_type": "code",
   "execution_count": null,
   "id": "f1744bd0",
   "metadata": {},
   "outputs": [],
   "source": [
    "number = \"Matt\"\n",
    "print(number)\n",
    "type(number)\n",
    "number = float(number)\n",
    "print(number)\n",
    "type(number)"
   ]
  },
  {
   "cell_type": "markdown",
   "id": "bf08a83a",
   "metadata": {},
   "source": [
    "## Comments\n",
    "\n",
    "* Python has a syntax for adding human readable comments to your code\n",
    "* Everything after a `#` on a line is ignored\n"
   ]
  },
  {
   "cell_type": "code",
   "execution_count": null,
   "id": "b908c307",
   "metadata": {},
   "outputs": [],
   "source": [
    "#This line is a comment\n",
    "print(\"this line is not a comment\")\n",
    "# print(\"Is this line a commen?\")"
   ]
  },
  {
   "cell_type": "markdown",
   "id": "ff67cc31",
   "metadata": {},
   "source": [
    "## Dealing with Errors\n",
    "\n",
    "* Errors are a common occurance in programming\n",
    "    * Especially the \"first draft\" of your code\n",
    "* Don't worry if Python yells at your\n",
    "    * Python will never be angry with you\n",
    "* Pay attention to some common types of errors"
   ]
  },
  {
   "cell_type": "code",
   "execution_count": null,
   "id": "341c47c0",
   "metadata": {},
   "outputs": [],
   "source": [
    "1_bad-variable-name = \"nope\""
   ]
  },
  {
   "cell_type": "code",
   "execution_count": null,
   "id": "6993889c",
   "metadata": {},
   "outputs": [],
   "source": [
    "abracadabra"
   ]
  },
  {
   "cell_type": "markdown",
   "id": "f922c9fb",
   "metadata": {},
   "source": [
    "* The *traceback* can be sometimes helpful for identifying the error in your code\n",
    "    * sometimes"
   ]
  },
  {
   "cell_type": "code",
   "execution_count": null,
   "id": "21867fba",
   "metadata": {},
   "outputs": [],
   "source": [
    "number = \"Matt\"\n",
    "print(number)\n",
    "type(number)\n",
    "number = float(number)\n",
    "print(number)\n",
    "type(number)"
   ]
  },
  {
   "cell_type": "markdown",
   "id": "cb968d12",
   "metadata": {},
   "source": [
    "## Computational Thinking: Statements and Expressions\n",
    "\n",
    "* Python evaluates expressions into values\n",
    "* Evaluation happens in place,\n",
    "* This is the thinking like a computer part "
   ]
  },
  {
   "cell_type": "code",
   "execution_count": null,
   "id": "d6eea87d",
   "metadata": {},
   "outputs": [],
   "source": [
    "a = 3\n",
    "print(a) # a gets evaluated into the value 3 \n",
    "print(3) # same output"
   ]
  },
  {
   "cell_type": "code",
   "execution_count": null,
   "id": "0e45f915",
   "metadata": {},
   "outputs": [],
   "source": [
    "print(a +  5)\n",
    "print(3 + 5)\n",
    "print(8)"
   ]
  },
  {
   "cell_type": "markdown",
   "id": "1769d3e1",
   "metadata": {},
   "source": [
    "* A computer can only do one operation at a time\n",
    "* It has to pick the order in which they are executed\n",
    "    * PEMDAS\n",
    "* Key thing is use parentheses to control the order in which expressions are evaluated\n",
    "* The order of application is by design, Python *designed it this way*\n",
    "    * Because C does it that way\n",
    "    * why does C do it? Because some computer scientist decided back in the day\n",
    "    * Everthing is built on top of something else\n",
    "    * Turtles all the way down"
   ]
  },
  {
   "cell_type": "code",
   "execution_count": null,
   "id": "c1c3a66e",
   "metadata": {},
   "outputs": [],
   "source": [
    "# implicit order\n",
    "4 + 2 * 10"
   ]
  },
  {
   "cell_type": "code",
   "execution_count": null,
   "id": "fe71d02a",
   "metadata": {},
   "outputs": [],
   "source": [
    "# explicit order\n",
    "4 + (2 * 10) # 4 + 20"
   ]
  },
  {
   "cell_type": "code",
   "execution_count": null,
   "id": "2399444d",
   "metadata": {},
   "outputs": [],
   "source": [
    "# evaluate 4 + 2 first, then do the multiplication\n",
    "(4 + 2) * 10"
   ]
  },
  {
   "cell_type": "markdown",
   "id": "de3ca41b",
   "metadata": {},
   "source": [
    "* Use parentheses to control the order of evaluation"
   ]
  },
  {
   "cell_type": "markdown",
   "id": "8eeb70e8",
   "metadata": {},
   "source": [
    "## Putting it all together\n",
    "\n",
    "\n",
    "* Today we learned about\n",
    "    * The four basic datatypes (int, float, string, bool)\n",
    "    * Assigning values to variables (a=3)\n",
    "    * Operators (+, -, /, *)\n",
    "    * Comments and errors\n",
    "* Now we are going to put it all together...with Math\n",
    "\n",
    "![Math Racoon](https://media.giphy.com/media/3tEFVAbfzzcwo/giphy.gif)\n",
    "\n",
    "* Let's use Python code to do some temperature conversion\n",
    "\n",
    "Here are the conversion equations:\n",
    "\n",
    "$$Celsius = \\frac{5}{9}(Fahrenheit - 32)$$\n",
    "\n",
    "YIKES, EQUATIONS. \n"
   ]
  },
  {
   "cell_type": "code",
   "execution_count": null,
   "id": "439bc10e",
   "metadata": {},
   "outputs": [],
   "source": [
    "# Start with a fahrenheit value\n",
    "fahrenheit = 32"
   ]
  },
  {
   "cell_type": "code",
   "execution_count": null,
   "id": "d9ed100f",
   "metadata": {},
   "outputs": [],
   "source": [
    "# Trye writing the equation in Python\n",
    "celsius = 5/9 * fahrenheit - 32\n",
    "celsius"
   ]
  },
  {
   "cell_type": "markdown",
   "id": "19b3c0bd",
   "metadata": {},
   "source": [
    "* Hrm, that doesn't look right. We need parentheses!"
   ]
  },
  {
   "cell_type": "code",
   "execution_count": null,
   "id": "fb3ac651",
   "metadata": {},
   "outputs": [],
   "source": [
    "celsius = 5 / 9(fahrenheit - 32) \n",
    "celsius"
   ]
  },
  {
   "cell_type": "markdown",
   "id": "95056fcf",
   "metadata": {
    "jupyter": {
     "outputs_hidden": true
    }
   },
   "source": [
    "* ACK, that didn't work either. \n",
    "* We need to be **EXPLICIT** about the multiplication"
   ]
  },
  {
   "cell_type": "code",
   "execution_count": null,
   "id": "f637fc1e",
   "metadata": {},
   "outputs": [],
   "source": [
    "# Add explicit multiplication\n",
    "celsius = 5 / 9 * (fahrenheit - 32) \n",
    "celsius"
   ]
  },
  {
   "cell_type": "markdown",
   "id": "ceedd60c",
   "metadata": {},
   "source": [
    "![Success](https://media.giphy.com/media/nXxOjZrbnbRxS/giphy.gif)"
   ]
  },
  {
   "cell_type": "markdown",
   "id": "5d8638ac",
   "metadata": {},
   "source": [
    "## Temperature Conversion Challenge\n",
    "\n",
    "Modify the program to transform Celsius to Fahrenheit\n",
    "\n",
    "$$Fahrenheit = \\frac{9}{5}Celcius + 32$$\n",
    "\n",
    "Write code that will calculate the boiling point in fahrenheit (212 degrees).\n",
    "\n",
    "Scroll down for the answer (DON'T CHEAT!)"
   ]
  },
  {
   "cell_type": "code",
   "execution_count": null,
   "id": "f7ed0086",
   "metadata": {},
   "outputs": [],
   "source": [
    "# Specify the temperature in celcius\n",
    "celsius = 100"
   ]
  },
  {
   "cell_type": "code",
   "execution_count": null,
   "id": "e6cad608",
   "metadata": {},
   "outputs": [],
   "source": [
    "# Put your code in the question marks\n",
    "\n",
    "fahrenheit = ???\n",
    "print(fahrenheit)"
   ]
  },
  {
   "cell_type": "code",
   "execution_count": null,
   "id": "8e2f450b",
   "metadata": {},
   "outputs": [],
   "source": []
  },
  {
   "cell_type": "code",
   "execution_count": null,
   "id": "78517f8f",
   "metadata": {},
   "outputs": [],
   "source": []
  },
  {
   "cell_type": "code",
   "execution_count": null,
   "id": "5f609cdf",
   "metadata": {},
   "outputs": [],
   "source": []
  },
  {
   "cell_type": "code",
   "execution_count": null,
   "id": "794ce4ef",
   "metadata": {},
   "outputs": [],
   "source": []
  },
  {
   "cell_type": "code",
   "execution_count": null,
   "id": "9dbdbca4",
   "metadata": {},
   "outputs": [],
   "source": []
  },
  {
   "cell_type": "code",
   "execution_count": null,
   "id": "9ce59de2",
   "metadata": {},
   "outputs": [],
   "source": []
  },
  {
   "cell_type": "code",
   "execution_count": null,
   "id": "73b3ada6",
   "metadata": {},
   "outputs": [],
   "source": []
  },
  {
   "cell_type": "code",
   "execution_count": null,
   "id": "e0caa4f9",
   "metadata": {},
   "outputs": [],
   "source": []
  },
  {
   "cell_type": "code",
   "execution_count": null,
   "id": "6424debe",
   "metadata": {},
   "outputs": [],
   "source": []
  },
  {
   "cell_type": "code",
   "execution_count": null,
   "id": "6b98fdf1",
   "metadata": {},
   "outputs": [],
   "source": []
  },
  {
   "cell_type": "code",
   "execution_count": null,
   "id": "104fa586",
   "metadata": {},
   "outputs": [],
   "source": []
  },
  {
   "cell_type": "code",
   "execution_count": null,
   "id": "3349f268",
   "metadata": {},
   "outputs": [],
   "source": [
    "# Answer key\n",
    "fahrenheit = 9 / 5 * celsius + 32\n",
    "print(fahrenheit)"
   ]
  },
  {
   "cell_type": "code",
   "execution_count": null,
   "id": "7a32552d",
   "metadata": {},
   "outputs": [],
   "source": []
  }
 ],
 "metadata": {
  "kernelspec": {
   "display_name": "Python 3 (ipykernel)",
   "language": "python",
   "name": "python3"
  },
  "language_info": {
   "codemirror_mode": {
    "name": "ipython",
    "version": 3
   },
   "file_extension": ".py",
   "mimetype": "text/x-python",
   "name": "python",
   "nbconvert_exporter": "python",
   "pygments_lexer": "ipython3",
   "version": "3.8.8"
  },
  "toc-autonumbering": false,
  "toc-showcode": false,
  "toc-showmarkdowntxt": false
 },
 "nbformat": 4,
 "nbformat_minor": 5
}
