{
 "cells": [
  {
   "cell_type": "markdown",
   "metadata": {},
   "source": [
    "# Week 2 Exercises\n",
    "\n",
    "You have five exercises this week covering different elements of the lecture and readings.\n",
    "\n",
    "1. Order of Operations\n",
    "2. String Concatination\n",
    "3. Data Coercion\n",
    "4. Debugging Strings\n",
    "5. Research"
   ]
  },
  {
   "cell_type": "markdown",
   "metadata": {},
   "source": [
    "## Order of Operations\n",
    "\n",
    "The code below is performing some mathematical operations to produce the number 24. You need to add some parentheses to the code so that it produces a new number, 60."
   ]
  },
  {
   "cell_type": "code",
   "execution_count": null,
   "metadata": {},
   "outputs": [],
   "source": [
    "# Modify the math code below\n",
    "total = 4 + 2 * 10"
   ]
  },
  {
   "cell_type": "code",
   "execution_count": null,
   "metadata": {},
   "outputs": [],
   "source": [
    "# Run this cell to check your work\n",
    "assert total == 60, \"Your math is incorrect.\"\n",
    "print(\"You got the correct answer. Awesome!\")"
   ]
  },
  {
   "cell_type": "markdown",
   "metadata": {},
   "source": [
    "## String Concatination\n",
    "\n",
    "Using string concatination, combine the following string variables to create a complete sentence. Then, put the full sentance in new string variable called `combined_string`. Don't forget spaces and punctuation!"
   ]
  },
  {
   "cell_type": "code",
   "execution_count": null,
   "metadata": {},
   "outputs": [],
   "source": [
    "string_1 = \"The quick fox\"\n",
    "string_2 = \"jumped over\"\n",
    "string_3 = \"the lazy dog\""
   ]
  },
  {
   "cell_type": "code",
   "execution_count": null,
   "metadata": {},
   "outputs": [],
   "source": [
    "# insert your code here\n"
   ]
  },
  {
   "cell_type": "code",
   "execution_count": null,
   "metadata": {},
   "outputs": [],
   "source": [
    "# Run this cell to check your work\n",
    "assert combined_string == \"The quick fox jumped over the lazy dog.\", \"Your string does not match the correct answer\"\n",
    "print(\"Your string matches the expected value. Good work!\")"
   ]
  },
  {
   "cell_type": "markdown",
   "metadata": {},
   "source": [
    "## Data Coercion\n",
    "\n",
    "Write some code that performs a mathematical operation on the two variables in the cell below. You will have to do three things in this exercise. First, change the data type of the two variables. Second, perform the correct mathematical operation to get the number 1.0256410256410258. Third, save the result in a new variable called `new_number`."
   ]
  },
  {
   "cell_type": "code",
   "execution_count": null,
   "metadata": {},
   "outputs": [],
   "source": [
    "number_1 = \"4\"\n",
    "number_2 = \"3.9\""
   ]
  },
  {
   "cell_type": "code",
   "execution_count": null,
   "metadata": {},
   "outputs": [],
   "source": [
    "# insert your code here\n",
    "\n"
   ]
  },
  {
   "cell_type": "code",
   "execution_count": null,
   "metadata": {},
   "outputs": [],
   "source": [
    "assert new_number == 1.0256410256410258, \"Your number isn't quite right\"\n",
    "print(\"You got it!\")"
   ]
  },
  {
   "cell_type": "code",
   "execution_count": null,
   "metadata": {},
   "outputs": [],
   "source": []
  },
  {
   "cell_type": "markdown",
   "metadata": {},
   "source": [
    "## Debugging Strings\n",
    "\n",
    "There are a few things wrong with the code below. When the cell is executed it throws an error. Your task is to identify the error(s) and fix it. The output should look something like this:\n",
    "```\n",
    "I'm Nobody! Who are you?\n",
    "Are you - Nobody - too?\n",
    "Then there's a pair of us!\n",
    "Dont tell! they'd advertise - you know!\n",
    "\n",
    "How dreary - to be - Somebody!\n",
    "How public - like a Frog -\n",
    "To tell one's name - the livelong June -\n",
    "To an admiring Bog!\n",
    "```"
   ]
  },
  {
   "cell_type": "code",
   "execution_count": null,
   "metadata": {},
   "outputs": [],
   "source": [
    "# Load a poem into memory\n",
    "line1 = 'I'm Nobody! Who are you?'\n",
    "line2 = 'Are you - Nobody - too?'\n",
    "line3 = 'Then there's a pair of us!'\n",
    "line4 = 'Dont tell! they'd advertise - you know!'\n",
    "\n",
    "# I'm tired of writing each line, I want the rest in one string\n",
    "second_paragraph = \"\n",
    "How dreary - to be - Somebody!\n",
    "How public - like a Frog -\n",
    "To tell one's name - the livelong June -\n",
    "To an admiring Bog!\n",
    "\"\n",
    "\n",
    "full_poem = line1 + line2 + line3 + line4 + second_paragraph\n",
    "\n",
    "# display the message\n",
    "full_poem"
   ]
  },
  {
   "cell_type": "markdown",
   "metadata": {},
   "source": [
    "## Research\n",
    "\n",
    "This exercise is *not* a programming task. Rather, your task is to go out to the web and do some research about programming. Venture out into the web and find at least one, but possible more, examples of librarians, archivists, museum curators (and their institutions) using programming (preferably Python, but it could be anything) to do something. It could be soliving a data processing problem, building a new experience or service, or just some fun explorations of their collections.  \n",
    "\n",
    "Create a new Markdown cell below and write up a short case-study about what you find. You should include:\n",
    "* A link to the website.\n",
    "* A paragraph describing the problem and what they did.\n",
    "* Why this particuate case interested you.\n",
    "* How this informs your motivations to learn programming."
   ]
  },
  {
   "cell_type": "code",
   "execution_count": null,
   "metadata": {},
   "outputs": [],
   "source": []
  }
 ],
 "metadata": {
  "kernelspec": {
   "display_name": "Python 3",
   "language": "python",
   "name": "python3"
  },
  "language_info": {
   "codemirror_mode": {
    "name": "ipython",
    "version": 3
   },
   "file_extension": ".py",
   "mimetype": "text/x-python",
   "name": "python",
   "nbconvert_exporter": "python",
   "pygments_lexer": "ipython3",
   "version": "3.8.5"
  }
 },
 "nbformat": 4,
 "nbformat_minor": 5
}
