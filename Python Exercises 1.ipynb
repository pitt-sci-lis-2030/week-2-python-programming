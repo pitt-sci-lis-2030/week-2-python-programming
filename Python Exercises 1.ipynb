{
 "cells": [
  {
   "cell_type": "markdown",
   "id": "13bc03b5-ac39-4dbe-8cfa-e1d2acdbdd2b",
   "metadata": {},
   "source": [
    "# Python Exercise One\n",
    "\n",
    "You have five exercises this week covering different elements of the lecture and readings.\n",
    "\n",
    "1. Order of Operations\n",
    "2. String Concantenation\n",
    "3. Data Coercion\n",
    "4. Fixing Errors\n",
    "5. Check-in and Markdown Practice"
   ]
  },
  {
   "cell_type": "markdown",
   "id": "abcfd513-952b-469a-b557-2da88e884a87",
   "metadata": {},
   "source": [
    "## 1. Order of Operations\n",
    "\n",
    "1. Before running the code and using your brain as computer evalute that statement below and write what you think the total is after the `comment here:`"
   ]
  },
  {
   "cell_type": "code",
   "execution_count": null,
   "id": "ac3f7bdc-9397-4e5e-89db-f08d85202f5c",
   "metadata": {},
   "outputs": [],
   "source": [
    "# Only run the code after you've guessed!\n",
    "total = 4 + 2 * 10\n",
    "\n",
    "#Comment here:\n",
    "\n"
   ]
  },
  {
   "cell_type": "code",
   "execution_count": null,
   "id": "22c48423-70f1-41c8-b212-2d9ef6da7861",
   "metadata": {},
   "outputs": [],
   "source": [
    "# you can check your understanding by having the computer print the value of total\n",
    "print(total)"
   ]
  },
  {
   "cell_type": "markdown",
   "id": "b648e29f-aad5-49fa-8a8c-2a12a2019ade",
   "metadata": {},
   "source": [
    "2. Now, only using parentheses change the order of operations to print a different value."
   ]
  },
  {
   "cell_type": "code",
   "execution_count": null,
   "id": "4ae28925-1be2-43df-a8e7-14dff62df8fc",
   "metadata": {
    "tags": []
   },
   "outputs": [],
   "source": [
    "# Add parentheses to the code below\n",
    "total = 4 + 2 * 10\n",
    "\n",
    "print(total)"
   ]
  },
  {
   "cell_type": "markdown",
   "id": "b84d7a22-5a52-4b99-9972-eebbe19893f3",
   "metadata": {},
   "source": [
    "## 2. String Concatination\n",
    "Using string concatination, combine the string variables in the code cells below to create a complete sentence. Then, put the full sentence in new string variable called `combined_string` and print the value of `combined_string`. \n",
    "\n",
    "The output of the print statement should look like this:\n",
    "```\n",
    "The quick brown fox jumps over the lazy dog.\n",
    "```\n",
    "\n",
    "* **Hint:** Don't forget spaces and punctuation!"
   ]
  },
  {
   "cell_type": "code",
   "execution_count": null,
   "id": "2ba537dc-48cf-4b1a-920b-f7cb08a9ca8a",
   "metadata": {},
   "outputs": [],
   "source": [
    "string_1 = \"The quick brown fox\"\n",
    "string_2 = \"jumps over\"\n",
    "string_3 = \"the lazy dog\"\n",
    "\n",
    "# insert your code here\n",
    "\n"
   ]
  },
  {
   "cell_type": "code",
   "execution_count": null,
   "id": "e337cbb6-d4df-416a-8c3c-ac9255b07303",
   "metadata": {},
   "outputs": [],
   "source": [
    "# Run this cell to check your work\n",
    "if combined_string == \"The quick brown fox jumps over the lazy dog.\":\n",
    "    print(\"Your string matches the expected value. Good work!\")\n",
    "else: \n",
    "    print(\"Your string does not match the correct answer. It needs to match EXACTLY!\")\n",
    "    \n"
   ]
  },
  {
   "cell_type": "markdown",
   "id": "1c39d916-db38-443e-bcca-d12817b9afdf",
   "metadata": {},
   "source": [
    "## 3. Data Coercion\n",
    "Write some code that performs a mathematical operation on the two variables in the cell below. You will have to do three things in this exercise. \n",
    "\n",
    "1. Change the data type of the two variables using data type functions. \n",
    "2. Perform the correct mathematical operation to get the number `1.0256410256410258`. \n",
    "3. Save the result in a new variable called `new_number`.\n",
    "\n",
    "* **Hint:** Data Type functions are `int()`, `float()`, `str()`"
   ]
  },
  {
   "cell_type": "code",
   "execution_count": null,
   "id": "2a364a90-b67a-44fc-b135-2edb494e9a12",
   "metadata": {},
   "outputs": [],
   "source": [
    "number_1 = \"4\"\n",
    "number_2 = \"3.9\"\n",
    "# insert your code here\n",
    "\n"
   ]
  },
  {
   "cell_type": "code",
   "execution_count": null,
   "id": "47c8d256-64fa-4eff-a512-c746f2a3cf02",
   "metadata": {},
   "outputs": [],
   "source": [
    "if new_number == 1.0256410256410258:\n",
    "    print(\"You got it!\")\n",
    "else:\n",
    "    print(\"Your number isn't quite right. Check your math!\")"
   ]
  },
  {
   "cell_type": "markdown",
   "id": "941bccc2-7236-4f57-b0d9-1659b7c6675a",
   "metadata": {},
   "source": [
    "## 4. Fixing Errors \n",
    "\n",
    "The code below is trying to concatenate two variables. the output of the code should be the string \"79\", but there are two errors. One is a `SyntaxError` and one is a `TypeError`. Modify the code below so that it executes without throwing an error and prints the string \"79\". "
   ]
  },
  {
   "cell_type": "code",
   "execution_count": null,
   "id": "600758a8-fb33-454c-96f7-90b16a6b32ad",
   "metadata": {},
   "outputs": [],
   "source": [
    "#set variables\n",
    "variable_one = 7\n",
    "variable_two = \"9'\n",
    "\n",
    "#add variables together and save in a result variable\n",
    "result = variable_one + variable_two \n",
    "\n",
    "\n",
    "#print value of result variable\n",
    "print(result)"
   ]
  },
  {
   "cell_type": "markdown",
   "id": "7a56a9e3-f517-41a7-9ca5-75724e86d796",
   "metadata": {},
   "source": [
    "##  5. Checking-In\n",
    "\n",
    "Using [Markdown syntax](https://commonmark.org/help/) insert a gif below that represents your mood and write a small paragraph about how you are feeling about your first Python exercise in LIS2030. *Don't forget to change the cell type to Markdown!*"
   ]
  },
  {
   "cell_type": "code",
   "execution_count": null,
   "id": "e77bb739-3aa8-443d-9383-10a2f0280e31",
   "metadata": {},
   "outputs": [],
   "source": []
  }
 ],
 "metadata": {
  "kernelspec": {
   "display_name": "Python 3 (ipykernel)",
   "language": "python",
   "name": "python3"
  },
  "language_info": {
   "codemirror_mode": {
    "name": "ipython",
    "version": 3
   },
   "file_extension": ".py",
   "mimetype": "text/x-python",
   "name": "python",
   "nbconvert_exporter": "python",
   "pygments_lexer": "ipython3",
   "version": "3.8.12"
  }
 },
 "nbformat": 4,
 "nbformat_minor": 5
}
